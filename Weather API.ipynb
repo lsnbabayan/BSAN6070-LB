{
 "cells": [
  {
   "cell_type": "code",
   "execution_count": 1,
   "id": "10107d1e",
   "metadata": {},
   "outputs": [
    {
     "ename": "ModuleNotFoundError",
     "evalue": "No module named 'requests'",
     "output_type": "error",
     "traceback": [
      "\u001b[1;31m---------------------------------------------------------------------------\u001b[0m",
      "\u001b[1;31mModuleNotFoundError\u001b[0m                       Traceback (most recent call last)",
      "\u001b[1;32m~\\AppData\\Local\\Temp\\ipykernel_24092\\1414829621.py\u001b[0m in \u001b[0;36m<module>\u001b[1;34m\u001b[0m\n\u001b[0;32m      1\u001b[0m \u001b[1;31m#import package to make HTTP requestes, similar to browser request\u001b[0m\u001b[1;33m\u001b[0m\u001b[1;33m\u001b[0m\u001b[1;33m\u001b[0m\u001b[0m\n\u001b[1;32m----> 2\u001b[1;33m \u001b[1;32mimport\u001b[0m \u001b[0mrequests\u001b[0m\u001b[1;33m\u001b[0m\u001b[1;33m\u001b[0m\u001b[0m\n\u001b[0m",
      "\u001b[1;31mModuleNotFoundError\u001b[0m: No module named 'requests'"
     ]
    }
   ],
   "source": [
    "# Lousin Babayan\n",
    "\n",
    "# import package to make HTTP requestes, similar to browser request\n",
    "# import requests - does not run initially "
   ]
  },
  {
   "cell_type": "code",
   "execution_count": 3,
   "id": "f9efe15f",
   "metadata": {},
   "outputs": [
    {
     "name": "stdout",
     "output_type": "stream",
     "text": [
      "Requirement already satisfied: requests in c:\\users\\lsnba\\anaconda3\\envs\\bsan 6088\\lib\\site-packages (2.28.2)\n",
      "Requirement already satisfied: idna<4,>=2.5 in c:\\users\\lsnba\\anaconda3\\envs\\bsan 6088\\lib\\site-packages (from requests) (3.4)\n",
      "Requirement already satisfied: charset-normalizer<4,>=2 in c:\\users\\lsnba\\anaconda3\\envs\\bsan 6088\\lib\\site-packages (from requests) (3.0.1)\n",
      "Requirement already satisfied: urllib3<1.27,>=1.21.1 in c:\\users\\lsnba\\anaconda3\\envs\\bsan 6088\\lib\\site-packages (from requests) (1.26.14)\n",
      "Requirement already satisfied: certifi>=2017.4.17 in c:\\users\\lsnba\\anaconda3\\envs\\bsan 6088\\lib\\site-packages (from requests) (2022.12.7)\n"
     ]
    }
   ],
   "source": [
    "# ! is running a command\n",
    "!pip install requests"
   ]
  },
  {
   "cell_type": "code",
   "execution_count": 4,
   "id": "9bf0ec5d",
   "metadata": {},
   "outputs": [],
   "source": [
    "import requests"
   ]
  },
  {
   "cell_type": "code",
   "execution_count": 5,
   "id": "4a65b560",
   "metadata": {},
   "outputs": [],
   "source": [
    "import json\n",
    "# to decode json"
   ]
  },
  {
   "cell_type": "code",
   "execution_count": 8,
   "id": "a8aee570",
   "metadata": {},
   "outputs": [],
   "source": [
    "api_url = 'https://api.weatherapi.com/v1/current.json'\n",
    "params = {'key' : '6b3e61406e3e443d876173420232201', 'q':'90045'}\n",
    "\n",
    "\n",
    "api_request = requests.get(api_url, params=params)"
   ]
  },
  {
   "cell_type": "code",
   "execution_count": 9,
   "id": "dcf6cccb",
   "metadata": {},
   "outputs": [
    {
     "data": {
      "text/plain": [
       "<Response [200]>"
      ]
     },
     "execution_count": 9,
     "metadata": {},
     "output_type": "execute_result"
    }
   ],
   "source": [
    "api_request"
   ]
  },
  {
   "cell_type": "code",
   "execution_count": 11,
   "id": "7ac3cbac",
   "metadata": {},
   "outputs": [
    {
     "data": {
      "text/plain": [
       "'https://api.weatherapi.com/v1/current.json?key=6b3e61406e3e443d876173420232201&q=90045'"
      ]
     },
     "execution_count": 11,
     "metadata": {},
     "output_type": "execute_result"
    }
   ],
   "source": [
    "api_request.url"
   ]
  },
  {
   "cell_type": "code",
   "execution_count": 12,
   "id": "f9d9a82a",
   "metadata": {},
   "outputs": [
    {
     "data": {
      "text/plain": [
       "'{\"location\":{\"name\":\"Los Angeles\",\"region\":\"California\",\"country\":\"USA\",\"lat\":33.96,\"lon\":-118.4,\"tz_id\":\"America/Los_Angeles\",\"localtime_epoch\":1674411381,\"localtime\":\"2023-01-22 10:16\"},\"current\":{\"last_updated_epoch\":1674410400,\"last_updated\":\"2023-01-22 10:00\",\"temp_c\":10.0,\"temp_f\":50.0,\"is_day\":1,\"condition\":{\"text\":\"Sunny\",\"icon\":\"//cdn.weatherapi.com/weather/64x64/day/113.png\",\"code\":1000},\"wind_mph\":2.2,\"wind_kph\":3.6,\"wind_degree\":10,\"wind_dir\":\"N\",\"pressure_mb\":1018.0,\"pressure_in\":30.07,\"precip_mm\":0.0,\"precip_in\":0.0,\"humidity\":54,\"cloud\":0,\"feelslike_c\":9.2,\"feelslike_f\":48.5,\"vis_km\":16.0,\"vis_miles\":9.0,\"uv\":3.0,\"gust_mph\":5.8,\"gust_kph\":9.4}}'"
      ]
     },
     "execution_count": 12,
     "metadata": {},
     "output_type": "execute_result"
    }
   ],
   "source": [
    "api_request.text"
   ]
  },
  {
   "cell_type": "code",
   "execution_count": 13,
   "id": "15864e64",
   "metadata": {},
   "outputs": [
    {
     "data": {
      "text/plain": [
       "str"
      ]
     },
     "execution_count": 13,
     "metadata": {},
     "output_type": "execute_result"
    }
   ],
   "source": [
    "type(api_request.text)"
   ]
  },
  {
   "cell_type": "code",
   "execution_count": 15,
   "id": "a2a5a472",
   "metadata": {},
   "outputs": [
    {
     "data": {
      "text/plain": [
       "{'location': {'name': 'Los Angeles',\n",
       "  'region': 'California',\n",
       "  'country': 'USA',\n",
       "  'lat': 33.96,\n",
       "  'lon': -118.4,\n",
       "  'tz_id': 'America/Los_Angeles',\n",
       "  'localtime_epoch': 1674411381,\n",
       "  'localtime': '2023-01-22 10:16'},\n",
       " 'current': {'last_updated_epoch': 1674410400,\n",
       "  'last_updated': '2023-01-22 10:00',\n",
       "  'temp_c': 10.0,\n",
       "  'temp_f': 50.0,\n",
       "  'is_day': 1,\n",
       "  'condition': {'text': 'Sunny',\n",
       "   'icon': '//cdn.weatherapi.com/weather/64x64/day/113.png',\n",
       "   'code': 1000},\n",
       "  'wind_mph': 2.2,\n",
       "  'wind_kph': 3.6,\n",
       "  'wind_degree': 10,\n",
       "  'wind_dir': 'N',\n",
       "  'pressure_mb': 1018.0,\n",
       "  'pressure_in': 30.07,\n",
       "  'precip_mm': 0.0,\n",
       "  'precip_in': 0.0,\n",
       "  'humidity': 54,\n",
       "  'cloud': 0,\n",
       "  'feelslike_c': 9.2,\n",
       "  'feelslike_f': 48.5,\n",
       "  'vis_km': 16.0,\n",
       "  'vis_miles': 9.0,\n",
       "  'uv': 3.0,\n",
       "  'gust_mph': 5.8,\n",
       "  'gust_kph': 9.4}}"
      ]
     },
     "execution_count": 15,
     "metadata": {},
     "output_type": "execute_result"
    }
   ],
   "source": [
    "json.loads(api_request.text)"
   ]
  },
  {
   "cell_type": "code",
   "execution_count": 18,
   "id": "b24f427f",
   "metadata": {},
   "outputs": [
    {
     "data": {
      "text/plain": [
       "dict"
      ]
     },
     "execution_count": 18,
     "metadata": {},
     "output_type": "execute_result"
    }
   ],
   "source": [
    "type(json.loads(api_request.text))"
   ]
  },
  {
   "cell_type": "code",
   "execution_count": 20,
   "id": "f5376ae7",
   "metadata": {},
   "outputs": [],
   "source": [
    "api_response = json.loads(api_request.text)"
   ]
  },
  {
   "cell_type": "code",
   "execution_count": 21,
   "id": "24b74c06",
   "metadata": {},
   "outputs": [
    {
     "data": {
      "text/plain": [
       "{'location': {'name': 'Los Angeles',\n",
       "  'region': 'California',\n",
       "  'country': 'USA',\n",
       "  'lat': 33.96,\n",
       "  'lon': -118.4,\n",
       "  'tz_id': 'America/Los_Angeles',\n",
       "  'localtime_epoch': 1674411381,\n",
       "  'localtime': '2023-01-22 10:16'},\n",
       " 'current': {'last_updated_epoch': 1674410400,\n",
       "  'last_updated': '2023-01-22 10:00',\n",
       "  'temp_c': 10.0,\n",
       "  'temp_f': 50.0,\n",
       "  'is_day': 1,\n",
       "  'condition': {'text': 'Sunny',\n",
       "   'icon': '//cdn.weatherapi.com/weather/64x64/day/113.png',\n",
       "   'code': 1000},\n",
       "  'wind_mph': 2.2,\n",
       "  'wind_kph': 3.6,\n",
       "  'wind_degree': 10,\n",
       "  'wind_dir': 'N',\n",
       "  'pressure_mb': 1018.0,\n",
       "  'pressure_in': 30.07,\n",
       "  'precip_mm': 0.0,\n",
       "  'precip_in': 0.0,\n",
       "  'humidity': 54,\n",
       "  'cloud': 0,\n",
       "  'feelslike_c': 9.2,\n",
       "  'feelslike_f': 48.5,\n",
       "  'vis_km': 16.0,\n",
       "  'vis_miles': 9.0,\n",
       "  'uv': 3.0,\n",
       "  'gust_mph': 5.8,\n",
       "  'gust_kph': 9.4}}"
      ]
     },
     "execution_count": 21,
     "metadata": {},
     "output_type": "execute_result"
    }
   ],
   "source": [
    "api_response"
   ]
  },
  {
   "cell_type": "code",
   "execution_count": 24,
   "id": "c03899a7",
   "metadata": {},
   "outputs": [
    {
     "data": {
      "text/plain": [
       "{'last_updated_epoch': 1674410400,\n",
       " 'last_updated': '2023-01-22 10:00',\n",
       " 'temp_c': 10.0,\n",
       " 'temp_f': 50.0,\n",
       " 'is_day': 1,\n",
       " 'condition': {'text': 'Sunny',\n",
       "  'icon': '//cdn.weatherapi.com/weather/64x64/day/113.png',\n",
       "  'code': 1000},\n",
       " 'wind_mph': 2.2,\n",
       " 'wind_kph': 3.6,\n",
       " 'wind_degree': 10,\n",
       " 'wind_dir': 'N',\n",
       " 'pressure_mb': 1018.0,\n",
       " 'pressure_in': 30.07,\n",
       " 'precip_mm': 0.0,\n",
       " 'precip_in': 0.0,\n",
       " 'humidity': 54,\n",
       " 'cloud': 0,\n",
       " 'feelslike_c': 9.2,\n",
       " 'feelslike_f': 48.5,\n",
       " 'vis_km': 16.0,\n",
       " 'vis_miles': 9.0,\n",
       " 'uv': 3.0,\n",
       " 'gust_mph': 5.8,\n",
       " 'gust_kph': 9.4}"
      ]
     },
     "execution_count": 24,
     "metadata": {},
     "output_type": "execute_result"
    }
   ],
   "source": [
    "api_response['current']"
   ]
  },
  {
   "cell_type": "code",
   "execution_count": 29,
   "id": "e643373b",
   "metadata": {},
   "outputs": [
    {
     "data": {
      "text/plain": [
       "50.0"
      ]
     },
     "execution_count": 29,
     "metadata": {},
     "output_type": "execute_result"
    }
   ],
   "source": [
    "api_response['current']['temp_f']"
   ]
  },
  {
   "cell_type": "code",
   "execution_count": 30,
   "id": "b39decf2",
   "metadata": {},
   "outputs": [
    {
     "data": {
      "text/plain": [
       "{'text': 'Sunny',\n",
       " 'icon': '//cdn.weatherapi.com/weather/64x64/day/113.png',\n",
       " 'code': 1000}"
      ]
     },
     "execution_count": 30,
     "metadata": {},
     "output_type": "execute_result"
    }
   ],
   "source": [
    "api_response['current']['condition']"
   ]
  },
  {
   "cell_type": "code",
   "execution_count": 31,
   "id": "35b3c00b",
   "metadata": {
    "scrolled": true
   },
   "outputs": [
    {
     "data": {
      "text/plain": [
       "'Sunny'"
      ]
     },
     "execution_count": 31,
     "metadata": {},
     "output_type": "execute_result"
    }
   ],
   "source": [
    "api_response['current']['condition']['text']"
   ]
  }
 ],
 "metadata": {
  "kernelspec": {
   "display_name": "Python 3 (ipykernel)",
   "language": "python",
   "name": "python3"
  },
  "language_info": {
   "codemirror_mode": {
    "name": "ipython",
    "version": 3
   },
   "file_extension": ".py",
   "mimetype": "text/x-python",
   "name": "python",
   "nbconvert_exporter": "python",
   "pygments_lexer": "ipython3",
   "version": "3.7.16"
  }
 },
 "nbformat": 4,
 "nbformat_minor": 5
}
